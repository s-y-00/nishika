{
 "cells": [
  {
   "cell_type": "code",
   "execution_count": 1,
   "metadata": {},
   "outputs": [],
   "source": [
    "import pandas as pd\n",
    "import numpy as np \n",
    "from scipy.sparse import csr_matrix\n",
    "from sklearn.neighbors import NearestNeighbors"
   ]
  },
  {
   "cell_type": "code",
   "execution_count": 2,
   "metadata": {},
   "outputs": [],
   "source": [
    "auction = pd.read_csv('data/auction.csv', index_col=None)\n",
    "brand = pd.read_csv('data/brand.csv', index_col=None)\n",
    "color = pd.read_csv('data/color.csv', index_col=None)\n",
    "sex = pd.read_csv('data/danjobetsu.csv', index_col=None)\n",
    "genre = pd.read_csv('data/genre.csv', index_col=None)\n",
    "genregroup = pd.read_csv('data/genregroup.csv', index_col=None)\n",
    "item_child = pd.read_csv('data/itemshou.csv', index_col=None)\n",
    "line = pd.read_csv('data/line.csv', index_col=None)\n",
    "member = pd.read_csv('data/kaiin.csv', index_col=None)\n",
    "watchlist = pd.read_csv('data/watchlist.csv', index_col=None)\n",
    "bid_history = pd.read_csv('data/shudounyuusatsu.csv', index_col=None)\n",
    "ask_history = pd.read_csv('data/rakusatsu.csv', index_col=None)\n",
    "arrival_notify = pd.read_csv('data/nyuuka_oshirase.csv', index_col=None)\n",
    "# search_log = pd.read_csv('data/search_log.tsv', index_col=None)"
   ]
  },
  {
   "cell_type": "code",
   "execution_count": null,
   "metadata": {},
   "outputs": [],
   "source": []
  }
 ],
 "metadata": {
  "kernelspec": {
   "display_name": "Python 3",
   "language": "python",
   "name": "python3"
  },
  "language_info": {
   "codemirror_mode": {
    "name": "ipython",
    "version": 3
   },
   "file_extension": ".py",
   "mimetype": "text/x-python",
   "name": "python",
   "nbconvert_exporter": "python",
   "pygments_lexer": "ipython3",
   "version": "3.7.3"
  }
 },
 "nbformat": 4,
 "nbformat_minor": 4
}
